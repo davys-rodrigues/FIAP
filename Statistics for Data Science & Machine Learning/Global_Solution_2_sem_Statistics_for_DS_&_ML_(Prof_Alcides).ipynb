{
  "cells": [
    {
      "cell_type": "markdown",
      "source": [
        "# Alunos:\n",
        " * Danilo Diniz - RM: 553123\n",
        " * Davy de Araujo Rodrigues - RM: 554325\n",
        " * Vitor Raposo de Medeiros - RM: 552760"
      ],
      "metadata": {
        "id": "Ar5Vm0oVmNJa"
      }
    },
    {
      "cell_type": "markdown",
      "source": [
        "# Carregando Bibliotecas"
      ],
      "metadata": {
        "id": "U0cuz-hKVPsJ"
      }
    },
    {
      "cell_type": "code",
      "source": [
        "import pandas as pd\n",
        "import numpy as np\n",
        "from math import comb"
      ],
      "outputs": [],
      "execution_count": 41,
      "metadata": {
        "id": "pSNioE0TVjqr"
      }
    },
    {
      "cell_type": "code",
      "source": [
        "clientes = pd.read_csv('clientes 1.csv')\n",
        "clientes"
      ],
      "outputs": [
        {
          "output_type": "execute_result",
          "execution_count": 5,
          "data": {
            "text/plain": "   faixa_etaria       sexo    gosto\n0    18-25 anos  Masculino     Doce\n1    26-35 anos   Feminino  Salgado\n2    36-45 anos  Masculino  Salgado\n3    18-25 anos   Feminino     Doce\n4    46-55 anos   Feminino  Salgado\n5    26-35 anos  Masculino     Doce\n6    36-45 anos   Feminino     Doce\n7    18-25 anos  Masculino  Salgado\n8    26-35 anos  Masculino  Salgado\n9    36-45 anos  Masculino     Doce\n10   18-25 anos   Feminino  Salgado\n11   46-55 anos  Masculino     Doce\n12   26-35 anos   Feminino     Doce\n13   36-45 anos  Masculino  Salgado\n14   18-25 anos   Feminino     Doce\n15   26-35 anos  Masculino  Salgado\n16   36-45 anos  Masculino     Doce\n17   18-25 anos  Masculino  Salgado\n18   26-35 anos  Masculino  Salgado\n19   36-45 anos   Feminino     Doce\n20   18-25 anos   Feminino  Salgado\n21   46-55 anos  Masculino  Salgado\n22   26-35 anos  Masculino     Doce\n23   36-45 anos   Feminino  Salgado\n24   18-25 anos  Masculino     Doce\n25   26-35 anos  Masculino     Doce\n26   36-45 anos   Feminino  Salgado\n27   18-25 anos   Feminino  Salgado\n28   46-55 anos  Masculino     Doce\n29   26-35 anos   Feminino     Doce\n30   36-45 anos  Masculino  Salgado\n31   18-25 anos  Masculino  Salgado\n32   26-35 anos  Masculino     Doce\n33   36-45 anos   Feminino     Doce\n34   18-25 anos   Feminino  Salgado\n35   46-55 anos  Masculino  Salgado\n36   26-35 anos  Masculino  Salgado\n37   36-45 anos   Feminino  Salgado\n38   18-25 anos  Masculino     Doce\n39   26-35 anos  Masculino  Salgado\n40   36-45 anos  Masculino     Doce\n41   18-25 anos   Feminino  Salgado\n42   46-55 anos  Masculino     Doce\n43   26-35 anos   Feminino     Doce\n44   36-45 anos  Masculino  Salgado\n45   18-25 anos   Feminino     Doce",
            "text/html": "\n  <div id=\"df-8719c2aa-77e0-44b2-9e02-cca970c89fd6\" class=\"colab-df-container\">\n    <div>\n<style scoped>\n    .dataframe tbody tr th:only-of-type {\n        vertical-align: middle;\n    }\n\n    .dataframe tbody tr th {\n        vertical-align: top;\n    }\n\n    .dataframe thead th {\n        text-align: right;\n    }\n</style>\n<table border=\"1\" class=\"dataframe\">\n  <thead>\n    <tr style=\"text-align: right;\">\n      <th></th>\n      <th>faixa_etaria</th>\n      <th>sexo</th>\n      <th>gosto</th>\n    </tr>\n  </thead>\n  <tbody>\n    <tr>\n      <th>0</th>\n      <td>18-25 anos</td>\n      <td>Masculino</td>\n      <td>Doce</td>\n    </tr>\n    <tr>\n      <th>1</th>\n      <td>26-35 anos</td>\n      <td>Feminino</td>\n      <td>Salgado</td>\n    </tr>\n    <tr>\n      <th>2</th>\n      <td>36-45 anos</td>\n      <td>Masculino</td>\n      <td>Salgado</td>\n    </tr>\n    <tr>\n      <th>3</th>\n      <td>18-25 anos</td>\n      <td>Feminino</td>\n      <td>Doce</td>\n    </tr>\n    <tr>\n      <th>4</th>\n      <td>46-55 anos</td>\n      <td>Feminino</td>\n      <td>Salgado</td>\n    </tr>\n    <tr>\n      <th>5</th>\n      <td>26-35 anos</td>\n      <td>Masculino</td>\n      <td>Doce</td>\n    </tr>\n    <tr>\n      <th>6</th>\n      <td>36-45 anos</td>\n      <td>Feminino</td>\n      <td>Doce</td>\n    </tr>\n    <tr>\n      <th>7</th>\n      <td>18-25 anos</td>\n      <td>Masculino</td>\n      <td>Salgado</td>\n    </tr>\n    <tr>\n      <th>8</th>\n      <td>26-35 anos</td>\n      <td>Masculino</td>\n      <td>Salgado</td>\n    </tr>\n    <tr>\n      <th>9</th>\n      <td>36-45 anos</td>\n      <td>Masculino</td>\n      <td>Doce</td>\n    </tr>\n    <tr>\n      <th>10</th>\n      <td>18-25 anos</td>\n      <td>Feminino</td>\n      <td>Salgado</td>\n    </tr>\n    <tr>\n      <th>11</th>\n      <td>46-55 anos</td>\n      <td>Masculino</td>\n      <td>Doce</td>\n    </tr>\n    <tr>\n      <th>12</th>\n      <td>26-35 anos</td>\n      <td>Feminino</td>\n      <td>Doce</td>\n    </tr>\n    <tr>\n      <th>13</th>\n      <td>36-45 anos</td>\n      <td>Masculino</td>\n      <td>Salgado</td>\n    </tr>\n    <tr>\n      <th>14</th>\n      <td>18-25 anos</td>\n      <td>Feminino</td>\n      <td>Doce</td>\n    </tr>\n    <tr>\n      <th>15</th>\n      <td>26-35 anos</td>\n      <td>Masculino</td>\n      <td>Salgado</td>\n    </tr>\n    <tr>\n      <th>16</th>\n      <td>36-45 anos</td>\n      <td>Masculino</td>\n      <td>Doce</td>\n    </tr>\n    <tr>\n      <th>17</th>\n      <td>18-25 anos</td>\n      <td>Masculino</td>\n      <td>Salgado</td>\n    </tr>\n    <tr>\n      <th>18</th>\n      <td>26-35 anos</td>\n      <td>Masculino</td>\n      <td>Salgado</td>\n    </tr>\n    <tr>\n      <th>19</th>\n      <td>36-45 anos</td>\n      <td>Feminino</td>\n      <td>Doce</td>\n    </tr>\n    <tr>\n      <th>20</th>\n      <td>18-25 anos</td>\n      <td>Feminino</td>\n      <td>Salgado</td>\n    </tr>\n    <tr>\n      <th>21</th>\n      <td>46-55 anos</td>\n      <td>Masculino</td>\n      <td>Salgado</td>\n    </tr>\n    <tr>\n      <th>22</th>\n      <td>26-35 anos</td>\n      <td>Masculino</td>\n      <td>Doce</td>\n    </tr>\n    <tr>\n      <th>23</th>\n      <td>36-45 anos</td>\n      <td>Feminino</td>\n      <td>Salgado</td>\n    </tr>\n    <tr>\n      <th>24</th>\n      <td>18-25 anos</td>\n      <td>Masculino</td>\n      <td>Doce</td>\n    </tr>\n    <tr>\n      <th>25</th>\n      <td>26-35 anos</td>\n      <td>Masculino</td>\n      <td>Doce</td>\n    </tr>\n    <tr>\n      <th>26</th>\n      <td>36-45 anos</td>\n      <td>Feminino</td>\n      <td>Salgado</td>\n    </tr>\n    <tr>\n      <th>27</th>\n      <td>18-25 anos</td>\n      <td>Feminino</td>\n      <td>Salgado</td>\n    </tr>\n    <tr>\n      <th>28</th>\n      <td>46-55 anos</td>\n      <td>Masculino</td>\n      <td>Doce</td>\n    </tr>\n    <tr>\n      <th>29</th>\n      <td>26-35 anos</td>\n      <td>Feminino</td>\n      <td>Doce</td>\n    </tr>\n    <tr>\n      <th>30</th>\n      <td>36-45 anos</td>\n      <td>Masculino</td>\n      <td>Salgado</td>\n    </tr>\n    <tr>\n      <th>31</th>\n      <td>18-25 anos</td>\n      <td>Masculino</td>\n      <td>Salgado</td>\n    </tr>\n    <tr>\n      <th>32</th>\n      <td>26-35 anos</td>\n      <td>Masculino</td>\n      <td>Doce</td>\n    </tr>\n    <tr>\n      <th>33</th>\n      <td>36-45 anos</td>\n      <td>Feminino</td>\n      <td>Doce</td>\n    </tr>\n    <tr>\n      <th>34</th>\n      <td>18-25 anos</td>\n      <td>Feminino</td>\n      <td>Salgado</td>\n    </tr>\n    <tr>\n      <th>35</th>\n      <td>46-55 anos</td>\n      <td>Masculino</td>\n      <td>Salgado</td>\n    </tr>\n    <tr>\n      <th>36</th>\n      <td>26-35 anos</td>\n      <td>Masculino</td>\n      <td>Salgado</td>\n    </tr>\n    <tr>\n      <th>37</th>\n      <td>36-45 anos</td>\n      <td>Feminino</td>\n      <td>Salgado</td>\n    </tr>\n    <tr>\n      <th>38</th>\n      <td>18-25 anos</td>\n      <td>Masculino</td>\n      <td>Doce</td>\n    </tr>\n    <tr>\n      <th>39</th>\n      <td>26-35 anos</td>\n      <td>Masculino</td>\n      <td>Salgado</td>\n    </tr>\n    <tr>\n      <th>40</th>\n      <td>36-45 anos</td>\n      <td>Masculino</td>\n      <td>Doce</td>\n    </tr>\n    <tr>\n      <th>41</th>\n      <td>18-25 anos</td>\n      <td>Feminino</td>\n      <td>Salgado</td>\n    </tr>\n    <tr>\n      <th>42</th>\n      <td>46-55 anos</td>\n      <td>Masculino</td>\n      <td>Doce</td>\n    </tr>\n    <tr>\n      <th>43</th>\n      <td>26-35 anos</td>\n      <td>Feminino</td>\n      <td>Doce</td>\n    </tr>\n    <tr>\n      <th>44</th>\n      <td>36-45 anos</td>\n      <td>Masculino</td>\n      <td>Salgado</td>\n    </tr>\n    <tr>\n      <th>45</th>\n      <td>18-25 anos</td>\n      <td>Feminino</td>\n      <td>Doce</td>\n    </tr>\n  </tbody>\n</table>\n</div>\n    <div class=\"colab-df-buttons\">\n\n  <div class=\"colab-df-container\">\n    <button class=\"colab-df-convert\" onclick=\"convertToInteractive('df-8719c2aa-77e0-44b2-9e02-cca970c89fd6')\"\n            title=\"Convert this dataframe to an interactive table.\"\n            style=\"display:none;\">\n\n  <svg xmlns=\"http://www.w3.org/2000/svg\" height=\"24px\" viewBox=\"0 -960 960 960\">\n    <path d=\"M120-120v-720h720v720H120Zm60-500h600v-160H180v160Zm220 220h160v-160H400v160Zm0 220h160v-160H400v160ZM180-400h160v-160H180v160Zm440 0h160v-160H620v160ZM180-180h160v-160H180v160Zm440 0h160v-160H620v160Z\"/>\n  </svg>\n    </button>\n\n  <style>\n    .colab-df-container {\n      display:flex;\n      gap: 12px;\n    }\n\n    .colab-df-convert {\n      background-color: #E8F0FE;\n      border: none;\n      border-radius: 50%;\n      cursor: pointer;\n      display: none;\n      fill: #1967D2;\n      height: 32px;\n      padding: 0 0 0 0;\n      width: 32px;\n    }\n\n    .colab-df-convert:hover {\n      background-color: #E2EBFA;\n      box-shadow: 0px 1px 2px rgba(60, 64, 67, 0.3), 0px 1px 3px 1px rgba(60, 64, 67, 0.15);\n      fill: #174EA6;\n    }\n\n    .colab-df-buttons div {\n      margin-bottom: 4px;\n    }\n\n    [theme=dark] .colab-df-convert {\n      background-color: #3B4455;\n      fill: #D2E3FC;\n    }\n\n    [theme=dark] .colab-df-convert:hover {\n      background-color: #434B5C;\n      box-shadow: 0px 1px 3px 1px rgba(0, 0, 0, 0.15);\n      filter: drop-shadow(0px 1px 2px rgba(0, 0, 0, 0.3));\n      fill: #FFFFFF;\n    }\n  </style>\n\n    <script>\n      const buttonEl =\n        document.querySelector('#df-8719c2aa-77e0-44b2-9e02-cca970c89fd6 button.colab-df-convert');\n      buttonEl.style.display =\n        google.colab.kernel.accessAllowed ? 'block' : 'none';\n\n      async function convertToInteractive(key) {\n        const element = document.querySelector('#df-8719c2aa-77e0-44b2-9e02-cca970c89fd6');\n        const dataTable =\n          await google.colab.kernel.invokeFunction('convertToInteractive',\n                                                    [key], {});\n        if (!dataTable) return;\n\n        const docLinkHtml = 'Like what you see? Visit the ' +\n          '<a target=\"_blank\" href=https://colab.research.google.com/notebooks/data_table.ipynb>data table notebook</a>'\n          + ' to learn more about interactive tables.';\n        element.innerHTML = '';\n        dataTable['output_type'] = 'display_data';\n        await google.colab.output.renderOutput(dataTable, element);\n        const docLink = document.createElement('div');\n        docLink.innerHTML = docLinkHtml;\n        element.appendChild(docLink);\n      }\n    </script>\n  </div>\n\n\n<div id=\"df-7698f4c0-1eab-42a4-9cdc-494b175f7cc5\">\n  <button class=\"colab-df-quickchart\" onclick=\"quickchart('df-7698f4c0-1eab-42a4-9cdc-494b175f7cc5')\"\n            title=\"Suggest charts\"\n            style=\"display:none;\">\n\n<svg xmlns=\"http://www.w3.org/2000/svg\" height=\"24px\"viewBox=\"0 0 24 24\"\n     width=\"24px\">\n    <g>\n        <path d=\"M19 3H5c-1.1 0-2 .9-2 2v14c0 1.1.9 2 2 2h14c1.1 0 2-.9 2-2V5c0-1.1-.9-2-2-2zM9 17H7v-7h2v7zm4 0h-2V7h2v10zm4 0h-2v-4h2v4z\"/>\n    </g>\n</svg>\n  </button>\n\n<style>\n  .colab-df-quickchart {\n      --bg-color: #E8F0FE;\n      --fill-color: #1967D2;\n      --hover-bg-color: #E2EBFA;\n      --hover-fill-color: #174EA6;\n      --disabled-fill-color: #AAA;\n      --disabled-bg-color: #DDD;\n  }\n\n  [theme=dark] .colab-df-quickchart {\n      --bg-color: #3B4455;\n      --fill-color: #D2E3FC;\n      --hover-bg-color: #434B5C;\n      --hover-fill-color: #FFFFFF;\n      --disabled-bg-color: #3B4455;\n      --disabled-fill-color: #666;\n  }\n\n  .colab-df-quickchart {\n    background-color: var(--bg-color);\n    border: none;\n    border-radius: 50%;\n    cursor: pointer;\n    display: none;\n    fill: var(--fill-color);\n    height: 32px;\n    padding: 0;\n    width: 32px;\n  }\n\n  .colab-df-quickchart:hover {\n    background-color: var(--hover-bg-color);\n    box-shadow: 0 1px 2px rgba(60, 64, 67, 0.3), 0 1px 3px 1px rgba(60, 64, 67, 0.15);\n    fill: var(--button-hover-fill-color);\n  }\n\n  .colab-df-quickchart-complete:disabled,\n  .colab-df-quickchart-complete:disabled:hover {\n    background-color: var(--disabled-bg-color);\n    fill: var(--disabled-fill-color);\n    box-shadow: none;\n  }\n\n  .colab-df-spinner {\n    border: 2px solid var(--fill-color);\n    border-color: transparent;\n    border-bottom-color: var(--fill-color);\n    animation:\n      spin 1s steps(1) infinite;\n  }\n\n  @keyframes spin {\n    0% {\n      border-color: transparent;\n      border-bottom-color: var(--fill-color);\n      border-left-color: var(--fill-color);\n    }\n    20% {\n      border-color: transparent;\n      border-left-color: var(--fill-color);\n      border-top-color: var(--fill-color);\n    }\n    30% {\n      border-color: transparent;\n      border-left-color: var(--fill-color);\n      border-top-color: var(--fill-color);\n      border-right-color: var(--fill-color);\n    }\n    40% {\n      border-color: transparent;\n      border-right-color: var(--fill-color);\n      border-top-color: var(--fill-color);\n    }\n    60% {\n      border-color: transparent;\n      border-right-color: var(--fill-color);\n    }\n    80% {\n      border-color: transparent;\n      border-right-color: var(--fill-color);\n      border-bottom-color: var(--fill-color);\n    }\n    90% {\n      border-color: transparent;\n      border-bottom-color: var(--fill-color);\n    }\n  }\n</style>\n\n  <script>\n    async function quickchart(key) {\n      const quickchartButtonEl =\n        document.querySelector('#' + key + ' button');\n      quickchartButtonEl.disabled = true;  // To prevent multiple clicks.\n      quickchartButtonEl.classList.add('colab-df-spinner');\n      try {\n        const charts = await google.colab.kernel.invokeFunction(\n            'suggestCharts', [key], {});\n      } catch (error) {\n        console.error('Error during call to suggestCharts:', error);\n      }\n      quickchartButtonEl.classList.remove('colab-df-spinner');\n      quickchartButtonEl.classList.add('colab-df-quickchart-complete');\n    }\n    (() => {\n      let quickchartButtonEl =\n        document.querySelector('#df-7698f4c0-1eab-42a4-9cdc-494b175f7cc5 button');\n      quickchartButtonEl.style.display =\n        google.colab.kernel.accessAllowed ? 'block' : 'none';\n    })();\n  </script>\n</div>\n    </div>\n  </div>\n"
          },
          "metadata": {}
        }
      ],
      "execution_count": 5,
      "metadata": {
        "colab": {
          "base_uri": "https://localhost:8080/",
          "height": 1000
        },
        "id": "OsX8j7RJVj7a",
        "outputId": "ade23fe4-1d30-4320-8b29-a959c3b1313f"
      }
    },
    {
      "cell_type": "code",
      "source": [
        "clientes = pd.DataFrame(clientes)\n",
        "clientes.shape"
      ],
      "outputs": [
        {
          "output_type": "execute_result",
          "execution_count": 10,
          "data": {
            "text/plain": "(46, 3)"
          },
          "metadata": {}
        }
      ],
      "execution_count": 10,
      "metadata": {
        "colab": {
          "base_uri": "https://localhost:8080/"
        },
        "id": "9aDemjg9Vj-K",
        "outputId": "66d7a2f4-099d-4574-e79f-c068f74e38ef"
      }
    },
    {
      "cell_type": "markdown",
      "source": [
        "### O total de homens que frequentou o estabelecimento"
      ],
      "metadata": {
        "id": "VrnBBw5WVkAq"
      }
    },
    {
      "cell_type": "code",
      "source": [
        "quantidade_homens = clientes[clientes['sexo'] == 'Masculino']['sexo'].count()\n",
        "quantidade_homens\n"
      ],
      "outputs": [
        {
          "output_type": "execute_result",
          "execution_count": 12,
          "data": {
            "text/plain": "27"
          },
          "metadata": {}
        }
      ],
      "execution_count": 12,
      "metadata": {
        "colab": {
          "base_uri": "https://localhost:8080/"
        },
        "id": "sZtVit4eVkDp",
        "outputId": "599afa9c-52fd-45f8-f100-73398a72ee2e"
      }
    },
    {
      "cell_type": "markdown",
      "source": [
        "### O total de mulheres que frequentou o estabelecimento"
      ],
      "metadata": {
        "id": "0e0wMncVVkGa"
      }
    },
    {
      "cell_type": "code",
      "source": [
        "quantidade_mulheres = clientes[clientes['sexo'] == 'Feminino']['sexo'].count()\n",
        "quantidade_mulheres"
      ],
      "outputs": [
        {
          "output_type": "execute_result",
          "execution_count": 14,
          "data": {
            "text/plain": "19"
          },
          "metadata": {}
        }
      ],
      "execution_count": 14,
      "metadata": {
        "colab": {
          "base_uri": "https://localhost:8080/"
        },
        "id": "fcxFqa6-VkI6",
        "outputId": "37495aeb-4db8-4c84-b914-d6ee2ded3603"
      }
    },
    {
      "cell_type": "markdown",
      "source": [
        "### A quantidade de pessoas que gostam de doces por faixa etária"
      ],
      "metadata": {
        "id": "YAAferYHVkLK"
      }
    },
    {
      "cell_type": "code",
      "source": [
        "doce = clientes[clientes['gosto'] == 'Doce']\n",
        "doce_por_idade = doce['faixa_etaria'].value_counts()\n",
        "doce_por_idade"
      ],
      "outputs": [
        {
          "output_type": "execute_result",
          "execution_count": 15,
          "data": {
            "text/plain": "26-35 anos    7\n18-25 anos    6\n36-45 anos    6\n46-55 anos    3\nName: faixa_etaria, dtype: int64"
          },
          "metadata": {}
        }
      ],
      "execution_count": 15,
      "metadata": {
        "colab": {
          "base_uri": "https://localhost:8080/"
        },
        "id": "_ctbn0yfZmIR",
        "outputId": "527186b3-a994-4066-de43-00ad6975e4b6"
      }
    },
    {
      "cell_type": "markdown",
      "source": [
        "### A quantidade de pessoas que gostam de salgados por faixa etária"
      ],
      "metadata": {
        "id": "kLNHy2LdatyZ"
      }
    },
    {
      "cell_type": "code",
      "source": [
        "salgado = clientes[clientes['gosto'] == 'Salgado']\n",
        "salgado_por_idade = salgado['faixa_etaria'].value_counts()\n",
        "salgado_por_idade"
      ],
      "outputs": [
        {
          "output_type": "execute_result",
          "execution_count": 20,
          "data": {
            "text/plain": "18-25 anos    8\n36-45 anos    7\n26-35 anos    6\n46-55 anos    3\nName: faixa_etaria, dtype: int64"
          },
          "metadata": {}
        }
      ],
      "execution_count": 20,
      "metadata": {
        "colab": {
          "base_uri": "https://localhost:8080/"
        },
        "id": "_izvs04NaxwY",
        "outputId": "76f1fb9d-0229-4440-f015-be3b91cff135"
      }
    },
    {
      "cell_type": "markdown",
      "source": [
        "### A probabilidade de escolher uma mulher neste dataset"
      ],
      "metadata": {
        "id": "JzB5p5PHdXG5"
      }
    },
    {
      "cell_type": "code",
      "source": [
        "total_mulheres = clientes[clientes['sexo'] == 'Feminino']\n",
        "prob_de_ser_mulher = len(total_mulheres) / len(clientes) * 100\n",
        "prob_de_ser_mulher"
      ],
      "outputs": [
        {
          "output_type": "execute_result",
          "execution_count": 26,
          "data": {
            "text/plain": "41.30434782608695"
          },
          "metadata": {}
        }
      ],
      "execution_count": 26,
      "metadata": {
        "colab": {
          "base_uri": "https://localhost:8080/"
        },
        "id": "MSsiZOuca9aJ",
        "outputId": "b12dace0-3ac8-4a7e-8019-fbafcf887211"
      }
    },
    {
      "cell_type": "markdown",
      "source": [
        "### A probabilidade de escolher um homem neste dataset"
      ],
      "metadata": {
        "id": "_8MX1Ubkd8WL"
      }
    },
    {
      "cell_type": "code",
      "source": [
        "total_homens = clientes[clientes['sexo'] == 'Masculino']\n",
        "prob_de_ser_homem = len(total_homens) / len(clientes) * 100\n",
        "prob_de_ser_homem"
      ],
      "outputs": [
        {
          "output_type": "execute_result",
          "execution_count": 28,
          "data": {
            "text/plain": "58.69565217391305"
          },
          "metadata": {}
        }
      ],
      "execution_count": 28,
      "metadata": {
        "colab": {
          "base_uri": "https://localhost:8080/"
        },
        "id": "3tTNUA-CdIYZ",
        "outputId": "6d246325-8111-4c6d-e4e9-c78f65ed8bd9"
      }
    },
    {
      "cell_type": "markdown",
      "source": [
        "### A  probabilidade  de  escolher  uma  mulher  que  gosta  de  doce  neste dataset"
      ],
      "metadata": {
        "id": "TIM6yf2kdmi5"
      }
    },
    {
      "cell_type": "code",
      "source": [
        "mulher_doce = total_mulheres[total_mulheres['gosto'] == 'Doce']\n",
        "prob_mulher_gostar_doce = len(mulher_doce) / len (total_mulheres) * 100\n",
        "prob_mulher_gostar_doce"
      ],
      "outputs": [
        {
          "output_type": "execute_result",
          "execution_count": 30,
          "data": {
            "text/plain": "47.368421052631575"
          },
          "metadata": {}
        }
      ],
      "execution_count": 30,
      "metadata": {
        "colab": {
          "base_uri": "https://localhost:8080/"
        },
        "id": "EgYuvzBfeXuG",
        "outputId": "bc3157b0-34fe-496b-985f-6a405903ddb7"
      }
    },
    {
      "cell_type": "markdown",
      "source": [
        "### A  probabilidade  de  escolher  um  homem  que  gosta  de  salgado  neste dataset"
      ],
      "metadata": {
        "id": "yMq43xr4e5PA"
      }
    },
    {
      "cell_type": "code",
      "source": [
        "homem_salgado = total_homens[total_homens['gosto'] == 'Salgado']\n",
        "prob_homem_gostar_salgado = len(homem_salgado) / len (total_homens) * 100\n",
        "prob_homem_gostar_salgado"
      ],
      "outputs": [
        {
          "output_type": "execute_result",
          "execution_count": 31,
          "data": {
            "text/plain": "51.85185185185185"
          },
          "metadata": {}
        }
      ],
      "execution_count": 31,
      "metadata": {
        "colab": {
          "base_uri": "https://localhost:8080/"
        },
        "id": "wrrtoqGYfaX_",
        "outputId": "a7c9dc20-083b-491a-891f-ceb20e9007ae"
      }
    },
    {
      "cell_type": "markdown",
      "source": [
        "### A  probabilidade  de  escolher  uma  pessoa  que  gosta  de  salgado,  dado que é uma mulher"
      ],
      "metadata": {
        "id": "ckVe5P8Cfecf"
      }
    },
    {
      "cell_type": "code",
      "source": [
        "mulheres_gostam_salgado = total_mulheres[total_mulheres['gosto'] == 'Salgado']\n",
        "prob_gostar_salgado_dado_que_mulher = len(mulheres_gostam_salgado) / len(total_mulheres) * 100\n",
        "prob_gostar_salgado_dado_que_mulher"
      ],
      "outputs": [
        {
          "output_type": "execute_result",
          "execution_count": 38,
          "data": {
            "text/plain": "52.63157894736842"
          },
          "metadata": {}
        }
      ],
      "execution_count": 38,
      "metadata": {
        "colab": {
          "base_uri": "https://localhost:8080/"
        },
        "id": "8uiIL6n-gBXQ",
        "outputId": "b21145c4-9d97-4e25-8fa5-7d9b7168380b"
      }
    },
    {
      "cell_type": "markdown",
      "source": [
        "### A probabilidade de escolher uma pessoa que gosta de doce, dado que é um homem"
      ],
      "metadata": {
        "id": "wozpxoXxgOaP"
      }
    },
    {
      "cell_type": "code",
      "source": [
        "homens_gostam_doce = total_homens[total_homens['gosto'] == 'Doce']\n",
        "prob_gostar_doce_dado_que_homem = len(homens_gostam_doce) / len(total_homens) * 100\n",
        "prob_gostar_doce_dado_que_homem"
      ],
      "outputs": [
        {
          "output_type": "execute_result",
          "execution_count": 40,
          "data": {
            "text/plain": "48.148148148148145"
          },
          "metadata": {}
        }
      ],
      "execution_count": 40,
      "metadata": {
        "colab": {
          "base_uri": "https://localhost:8080/"
        },
        "id": "sF_GdayNiT2C",
        "outputId": "eb095e8a-f28a-4a4b-df7f-44e43e076d6c"
      }
    },
    {
      "cell_type": "markdown",
      "source": [
        "### 2\n",
        "\n",
        "### A. Dois clientes de seis aceitarem a sobremesa?"
      ],
      "metadata": {
        "id": "irXFA9ElihEz"
      }
    },
    {
      "cell_type": "code",
      "source": [
        "total_clientes = 6  # Número total de clientes\n",
        "prob_sobremesa = 0.65  # Probabilidade de aceitação da sobremesa\n",
        "\n",
        "x = 2\n",
        "probabilidade_a = comb(total_clientes, x) * (prob_sobremesa ** 2) * ((1 - prob_sobremesa) ** (total_clientes - x))\n",
        "probabilidade_a"
      ],
      "outputs": [
        {
          "output_type": "execute_result",
          "execution_count": 43,
          "data": {
            "text/plain": "0.09510210937499998"
          },
          "metadata": {}
        }
      ],
      "execution_count": 43,
      "metadata": {
        "colab": {
          "base_uri": "https://localhost:8080/"
        },
        "id": "8_wH970lkXlV",
        "outputId": "b8b41e20-5e18-4ff5-b50d-d4ac6bb8766c"
      }
    },
    {
      "cell_type": "markdown",
      "source": [
        "### B. Três clientes em seis aceitarem a sobremesa?\n"
      ],
      "metadata": {
        "id": "5tlI2XyzlfgX"
      }
    },
    {
      "cell_type": "code",
      "source": [
        "total_clientes = 6  # Número total de clientes\n",
        "prob_sobremesa = 0.65  # Probabilidade de aceitação da sobremesa\n",
        "\n",
        "y = 3\n",
        "probabilidade_b = comb(total_clientes, y) * (prob_sobremesa ** y) * ((1 - prob_sobremesa) ** (total_clientes - y))\n",
        "probabilidade_b"
      ],
      "outputs": [
        {
          "output_type": "execute_result",
          "execution_count": 45,
          "data": {
            "text/plain": "0.23549093749999994"
          },
          "metadata": {}
        }
      ],
      "execution_count": 45,
      "metadata": {
        "colab": {
          "base_uri": "https://localhost:8080/"
        },
        "id": "DG2SH78plvIY",
        "outputId": "296a1ff4-ff51-478b-b2ca-98dc21374364"
      }
    },
    {
      "cell_type": "code",
      "source": [],
      "outputs": [],
      "execution_count": null,
      "metadata": {
        "id": "d6f8zKsOl98J"
      }
    }
  ],
  "metadata": {
    "colab": {
      "provenance": []
    },
    "kernelspec": {
      "name": "python3",
      "display_name": "Python 3"
    },
    "language_info": {
      "name": "python"
    },
    "nteract": {
      "version": "nteract-front-end@1.0.0"
    }
  },
  "nbformat": 4,
  "nbformat_minor": 0
}